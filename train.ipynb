{
 "cells": [
  {
   "cell_type": "markdown",
   "metadata": {
    "id": "fluF3_oOgkWF"
   },
   "source": [
    "##### Copyright 2020 The TensorFlow Authors."
   ]
  },
  {
   "cell_type": "code",
   "execution_count": 1,
   "metadata": {
    "cellView": "form",
    "id": "AJs7HHFmg1M9"
   },
   "outputs": [],
   "source": [
    "#@title Licensed under the Apache License, Version 2.0 (the \"License\");\n",
    "# you may not use this file except in compliance with the License.\n",
    "# You may obtain a copy of the License at\n",
    "#\n",
    "# https://www.apache.org/licenses/LICENSE-2.0\n",
    "#\n",
    "# Unless required by applicable law or agreed to in writing, software\n",
    "# distributed under the License is distributed on an \"AS IS\" BASIS,\n",
    "# WITHOUT WARRANTIES OR CONDITIONS OF ANY KIND, either express or implied.\n",
    "# See the License for the specific language governing permissions and\n",
    "# limitations under the License."
   ]
  },
  {
   "cell_type": "markdown",
   "metadata": {
    "id": "jYysdyb-CaWM"
   },
   "source": [
    "# Simple audio recognition: Recognizing keywords"
   ]
  },
  {
   "cell_type": "markdown",
   "metadata": {
    "id": "CNbqmZy0gbyE"
   },
   "source": [
    "<table class=\"tfo-notebook-buttons\" align=\"left\">\n",
    "  <td>\n",
    "    <a target=\"_blank\" href=\"https://www.tensorflow.org/tutorials/audio/simple_audio\">\n",
    "    <img src=\"https://www.tensorflow.org/images/tf_logo_32px.png\" />\n",
    "    View on TensorFlow.org</a>\n",
    "  </td>\n",
    "  <td>\n",
    "    <a target=\"_blank\" href=\"https://colab.research.google.com/github/tensorflow/docs/blob/master/site/en/tutorials/audio/simple_audio.ipynb\">\n",
    "    <img src=\"https://www.tensorflow.org/images/colab_logo_32px.png\" />\n",
    "    Run in Google Colab</a>\n",
    "  </td>\n",
    "  <td>\n",
    "    <a target=\"_blank\" href=\"https://github.com/tensorflow/docs/blob/master/site/en/tutorials/audio/simple_audio.ipynb\">\n",
    "    <img src=\"https://www.tensorflow.org/images/GitHub-Mark-32px.png\" />\n",
    "    View source on GitHub</a>\n",
    "  </td>\n",
    "  <td>\n",
    "    <a href=\"https://storage.googleapis.com/tensorflow_docs/docs/site/en/tutorials/audio/simple_audio.ipynb\"><img src=\"https://www.tensorflow.org/images/download_logo_32px.png\" />Download notebook</a>\n",
    "  </td>\n",
    "</table>"
   ]
  },
  {
   "cell_type": "markdown",
   "metadata": {
    "id": "SPfDNFlb66XF"
   },
   "source": [
    "This tutorial demonstrates how to preprocess audio files in the WAV format and build and train a basic <a href=\"https://en.wikipedia.org/wiki/Speech_recognition\" class=\"external\">automatic speech recognition</a> (ASR) model for recognizing ten different words. You will use a portion of the [Speech Commands dataset](https://www.tensorflow.org/datasets/catalog/speech_commands) (<a href=\"https://arxiv.org/abs/1804.03209\" class=\"external\">Warden, 2018</a>), which contains short (one-second or less) audio clips of commands, such as \"down\", \"go\", \"left\", \"no\", \"right\", \"stop\", \"up\" and \"yes\".\n",
    "\n",
    "Real-world speech and audio recognition <a href=\"https://ai.googleblog.com/search/label/Speech%20Recognition\" class=\"external\">systems</a> are complex. But, like [image classification with the MNIST dataset](../quickstart/beginner.ipynb), this tutorial should give you a basic understanding of the techniques involved."
   ]
  },
  {
   "cell_type": "markdown",
   "metadata": {
    "id": "Go9C3uLL8Izc"
   },
   "source": [
    "## Setup\n",
    "\n",
    "Import necessary modules and dependencies. Note that you'll be using <a href=\"https://seaborn.pydata.org/\" class=\"external\">seaborn</a> for visualization in this tutorial."
   ]
  },
  {
   "cell_type": "code",
   "execution_count": 2,
   "metadata": {
    "id": "dzLKpmZICaWN"
   },
   "outputs": [],
   "source": [
    "import os\n",
    "import pathlib\n",
    "\n",
    "import matplotlib.pyplot as plt\n",
    "import numpy as np\n",
    "import seaborn as sns\n",
    "import tensorflow as tf\n",
    "\n",
    "from tensorflow.keras import layers\n",
    "from tensorflow.keras import models\n",
    "from IPython import display\n",
    "\n",
    "# Set the seed value for experiment reproducibility.\n",
    "seed = 42\n",
    "tf.random.set_seed(seed)\n",
    "np.random.seed(seed)"
   ]
  },
  {
   "cell_type": "markdown",
   "metadata": {
    "id": "yR0EdgrLCaWR"
   },
   "source": [
    "## Import the mini Speech Commands dataset\n",
    "\n",
    "To save time with data loading, you will be working with a smaller version of the Speech Commands dataset. The [original dataset](https://www.tensorflow.org/datasets/catalog/speech_commands) consists of over 105,000 audio files in the <a href=\"https://www.aelius.com/njh/wavemetatools/doc/riffmci.pdf\" class=\"external\">WAV (Waveform) audio file format</a> of people saying 35 different words. This data was collected by Google and released under a CC BY license.\n",
    "\n",
    "Download and extract the `mini_speech_commands.zip` file containing the smaller Speech Commands datasets with `tf.keras.utils.get_file`:"
   ]
  },
  {
   "cell_type": "code",
   "execution_count": 3,
   "metadata": {
    "colab": {
     "base_uri": "https://localhost:8080/"
    },
    "id": "2-rayb7-3Y0I",
    "outputId": "f736705d-21f3-4dba-ca33-3e2db5865b98"
   },
   "outputs": [],
   "source": [
    "DATASET_PATH = 'data/mini_speech_commands'\n",
    "\n",
    "data_dir = pathlib.Path(DATASET_PATH)\n",
    "if not data_dir.exists():\n",
    "  tf.keras.utils.get_file(\n",
    "      'mini_speech_commands.zip',\n",
    "      origin=\"http://storage.googleapis.com/download.tensorflow.org/data/mini_speech_commands.zip\",\n",
    "      extract=True,\n",
    "      cache_dir='.', cache_subdir='data')"
   ]
  },
  {
   "cell_type": "markdown",
   "metadata": {
    "id": "BgvFq3uYiS5G"
   },
   "source": [
    "The dataset's audio clips are stored in eight folders corresponding to each speech command: `no`, `yes`, `down`, `go`, `left`, `up`, `right`, and `stop`:"
   ]
  },
  {
   "cell_type": "code",
   "execution_count": 4,
   "metadata": {
    "colab": {
     "base_uri": "https://localhost:8080/"
    },
    "id": "70IBxSKxA1N9",
    "outputId": "81d7ef04-a7e3-460d-9cf4-8c4063c39914"
   },
   "outputs": [
    {
     "name": "stdout",
     "output_type": "stream",
     "text": [
      "Commands: ['go' 'left' 'stop' 'up' 'right' 'yes' 'down' 'no']\n"
     ]
    }
   ],
   "source": [
    "commands = np.array(tf.io.gfile.listdir(str(data_dir)))\n",
    "commands = commands[commands != 'README.md']\n",
    "print('Commands:', commands)"
   ]
  },
  {
   "cell_type": "markdown",
   "metadata": {
    "id": "aMvdU9SY8WXN"
   },
   "source": [
    "Extract the audio clips into a list called `filenames`, and shuffle it:"
   ]
  },
  {
   "cell_type": "code",
   "execution_count": 5,
   "metadata": {
    "colab": {
     "base_uri": "https://localhost:8080/"
    },
    "id": "hlX685l1wD9k",
    "outputId": "e2df95e3-83c4-49b9-972e-87df2252071e"
   },
   "outputs": [
    {
     "name": "stderr",
     "output_type": "stream",
     "text": [
      "2022-06-11 14:21:14.770078: I tensorflow/stream_executor/cuda/cuda_gpu_executor.cc:939] successful NUMA node read from SysFS had negative value (-1), but there must be at least one NUMA node, so returning NUMA node zero\n"
     ]
    },
    {
     "name": "stdout",
     "output_type": "stream",
     "text": [
      "Number of total examples: 8000\n",
      "Number of examples per label: 1000\n",
      "Example file tensor: tf.Tensor(b'data/mini_speech_commands/left/5e1b34a6_nohash_0.wav', shape=(), dtype=string)\n"
     ]
    },
    {
     "name": "stderr",
     "output_type": "stream",
     "text": [
      "2022-06-11 14:21:14.794901: I tensorflow/stream_executor/cuda/cuda_gpu_executor.cc:939] successful NUMA node read from SysFS had negative value (-1), but there must be at least one NUMA node, so returning NUMA node zero\n",
      "2022-06-11 14:21:14.795088: I tensorflow/stream_executor/cuda/cuda_gpu_executor.cc:939] successful NUMA node read from SysFS had negative value (-1), but there must be at least one NUMA node, so returning NUMA node zero\n",
      "2022-06-11 14:21:14.795909: I tensorflow/core/platform/cpu_feature_guard.cc:151] This TensorFlow binary is optimized with oneAPI Deep Neural Network Library (oneDNN) to use the following CPU instructions in performance-critical operations:  AVX2 FMA\n",
      "To enable them in other operations, rebuild TensorFlow with the appropriate compiler flags.\n",
      "2022-06-11 14:21:14.796693: I tensorflow/stream_executor/cuda/cuda_gpu_executor.cc:939] successful NUMA node read from SysFS had negative value (-1), but there must be at least one NUMA node, so returning NUMA node zero\n",
      "2022-06-11 14:21:14.796859: I tensorflow/stream_executor/cuda/cuda_gpu_executor.cc:939] successful NUMA node read from SysFS had negative value (-1), but there must be at least one NUMA node, so returning NUMA node zero\n",
      "2022-06-11 14:21:14.796967: I tensorflow/stream_executor/cuda/cuda_gpu_executor.cc:939] successful NUMA node read from SysFS had negative value (-1), but there must be at least one NUMA node, so returning NUMA node zero\n",
      "2022-06-11 14:21:15.181065: I tensorflow/stream_executor/cuda/cuda_gpu_executor.cc:939] successful NUMA node read from SysFS had negative value (-1), but there must be at least one NUMA node, so returning NUMA node zero\n",
      "2022-06-11 14:21:15.181245: I tensorflow/stream_executor/cuda/cuda_gpu_executor.cc:939] successful NUMA node read from SysFS had negative value (-1), but there must be at least one NUMA node, so returning NUMA node zero\n",
      "2022-06-11 14:21:15.181362: I tensorflow/stream_executor/cuda/cuda_gpu_executor.cc:939] successful NUMA node read from SysFS had negative value (-1), but there must be at least one NUMA node, so returning NUMA node zero\n",
      "2022-06-11 14:21:15.181465: I tensorflow/core/common_runtime/gpu/gpu_device.cc:1525] Created device /job:localhost/replica:0/task:0/device:GPU:0 with 6655 MB memory:  -> device: 0, name: NVIDIA GeForce RTX 2070 Super with Max-Q Design, pci bus id: 0000:01:00.0, compute capability: 7.5\n"
     ]
    }
   ],
   "source": [
    "filenames = tf.io.gfile.glob(str(data_dir) + '/*/*')\n",
    "filenames = tf.random.shuffle(filenames)\n",
    "num_samples = len(filenames)\n",
    "print('Number of total examples:', num_samples)\n",
    "print('Number of examples per label:',\n",
    "      len(tf.io.gfile.listdir(str(data_dir/commands[0]))))\n",
    "print('Example file tensor:', filenames[0])"
   ]
  },
  {
   "cell_type": "markdown",
   "metadata": {
    "id": "9vK3ymy23MCP"
   },
   "source": [
    "Split `filenames` into training, validation and test sets using a 80:10:10 ratio, respectively:"
   ]
  },
  {
   "cell_type": "code",
   "execution_count": 6,
   "metadata": {
    "colab": {
     "base_uri": "https://localhost:8080/"
    },
    "id": "Cv_wts-l3KgD",
    "outputId": "bc44bab5-fa05-42d1-e11c-d80d09611dea"
   },
   "outputs": [
    {
     "name": "stdout",
     "output_type": "stream",
     "text": [
      "Training set size 6400\n",
      "Validation set size 800\n",
      "Test set size 800\n"
     ]
    }
   ],
   "source": [
    "train_files = filenames[:6400]\n",
    "val_files = filenames[6400: 6400 + 800]\n",
    "test_files = filenames[-800:]\n",
    "\n",
    "print('Training set size', len(train_files))\n",
    "print('Validation set size', len(val_files))\n",
    "print('Test set size', len(test_files))"
   ]
  },
  {
   "cell_type": "markdown",
   "metadata": {
    "id": "g2Cj9FyvfweD"
   },
   "source": [
    "## Read the audio files and their labels"
   ]
  },
  {
   "cell_type": "markdown",
   "metadata": {
    "id": "j1zjcWteOcBy"
   },
   "source": [
    "In this section you will preprocess the dataset, creating decoded tensors for the waveforms and the corresponding labels. Note that:\n",
    "\n",
    "- Each WAV file contains time-series data with a set number of samples per second.\n",
    "- Each sample represents the <a href=\"https://en.wikipedia.org/wiki/Amplitude\" class=\"external\">amplitude</a> of the audio signal at that specific time.\n",
    "- In a <a href=\"https://en.wikipedia.org/wiki/Audio_bit_depth\" class=\"external\">16-bit</a> system, like the WAV files in the mini Speech Commands dataset, the amplitude values range from -32,768 to 32,767.\n",
    "- The <a href=\"https://en.wikipedia.org/wiki/Sampling_(signal_processing)#Audio_sampling\" class=\"external\">sample rate</a> for this dataset is 16kHz.\n",
    "\n",
    "The shape of the tensor returned by `tf.audio.decode_wav` is `[samples, channels]`, where `channels` is `1` for mono or `2` for stereo. The mini Speech Commands dataset only contains mono recordings. "
   ]
  },
  {
   "cell_type": "code",
   "execution_count": 7,
   "metadata": {
    "colab": {
     "base_uri": "https://localhost:8080/"
    },
    "id": "d16bb8416f90",
    "outputId": "2f77002c-b28d-45eb-814b-955fb01fcf84"
   },
   "outputs": [
    {
     "data": {
      "text/plain": [
       "TensorShape([13654, 1])"
      ]
     },
     "execution_count": 7,
     "metadata": {},
     "output_type": "execute_result"
    }
   ],
   "source": [
    "test_file = tf.io.read_file(DATASET_PATH+'/down/0a9f9af7_nohash_0.wav')\n",
    "test_audio, _ = tf.audio.decode_wav(contents=test_file)\n",
    "test_audio.shape"
   ]
  },
  {
   "cell_type": "markdown",
   "metadata": {
    "id": "e6bb8defd2ef"
   },
   "source": [
    "Now, let's define a function that preprocesses the dataset's raw WAV audio files into audio tensors:"
   ]
  },
  {
   "cell_type": "code",
   "execution_count": 8,
   "metadata": {
    "id": "9PjJ2iXYwftD"
   },
   "outputs": [],
   "source": [
    "def decode_audio(audio_binary):\n",
    "  # Decode WAV-encoded audio files to `float32` tensors, normalized\n",
    "  # to the [-1.0, 1.0] range. Return `float32` audio and a sample rate.\n",
    "  audio, _ = tf.audio.decode_wav(contents=audio_binary)\n",
    "  # Since all the data is single channel (mono), drop the `channels`\n",
    "  # axis from the array.\n",
    "  return tf.squeeze(audio, axis=-1)"
   ]
  },
  {
   "cell_type": "markdown",
   "metadata": {
    "id": "GPQseZElOjVN"
   },
   "source": [
    "Define a function that creates labels using the parent directories for each file:\n",
    "\n",
    "- Split the file paths into `tf.RaggedTensor`s (tensors with ragged dimensions—with slices that may have different lengths)."
   ]
  },
  {
   "cell_type": "code",
   "execution_count": 9,
   "metadata": {
    "id": "8VTtX1nr3YT-"
   },
   "outputs": [],
   "source": [
    "def get_label(file_path):\n",
    "  parts = tf.strings.split(\n",
    "      input=file_path,\n",
    "      sep=os.path.sep)\n",
    "  # Note: You'll use indexing here instead of tuple unpacking to enable this\n",
    "  # to work in a TensorFlow graph.\n",
    "  return parts[-2]"
   ]
  },
  {
   "cell_type": "markdown",
   "metadata": {
    "id": "E8Y9w_5MOsr-"
   },
   "source": [
    "Define another helper function—`get_waveform_and_label`—that puts it all together:\n",
    "\n",
    "- The input is the WAV audio filename.\n",
    "- The output is a tuple containing the audio and label tensors ready for supervised learning."
   ]
  },
  {
   "cell_type": "code",
   "execution_count": 10,
   "metadata": {
    "id": "WdgUD5T93NyT"
   },
   "outputs": [],
   "source": [
    "def get_waveform_and_label(file_path):\n",
    "  label = get_label(file_path)\n",
    "  audio_binary = tf.io.read_file(file_path)\n",
    "  waveform = decode_audio(audio_binary)\n",
    "  return waveform, label"
   ]
  },
  {
   "cell_type": "markdown",
   "metadata": {
    "id": "nvN8W_dDjYjc"
   },
   "source": [
    "Build the training set to extract the audio-label pairs:\n",
    "\n",
    "- Create a `tf.data.Dataset` with `Dataset.from_tensor_slices` and `Dataset.map`, using `get_waveform_and_label` defined earlier.\n",
    "\n",
    "You'll build the validation and test sets using a similar procedure later on."
   ]
  },
  {
   "cell_type": "code",
   "execution_count": 11,
   "metadata": {
    "id": "0SQl8yXl3kNP"
   },
   "outputs": [],
   "source": [
    "AUTOTUNE = tf.data.AUTOTUNE\n",
    "\n",
    "files_ds = tf.data.Dataset.from_tensor_slices(train_files)\n",
    "\n",
    "waveform_ds = files_ds.map(\n",
    "    map_func=get_waveform_and_label,\n",
    "    num_parallel_calls=AUTOTUNE)"
   ]
  },
  {
   "cell_type": "markdown",
   "metadata": {
    "id": "voxGEwvuh2L7"
   },
   "source": [
    "Let's plot a few audio waveforms:"
   ]
  },
  {
   "cell_type": "code",
   "execution_count": 12,
   "metadata": {
    "colab": {
     "base_uri": "https://localhost:8080/",
     "height": 716
    },
    "id": "8yuX6Nqzf6wT",
    "outputId": "e60a5727-634f-4f9c-9ff6-5858a9999c6e"
   },
   "outputs": [
    {
     "data": {
      "image/png": "[encoded data removed]",
      "text/plain": [
       "<Figure size 720x864 with 9 Axes>"
      ]
     },
     "metadata": {
      "needs_background": "light"
     },
     "output_type": "display_data"
    }
   ],
   "source": [
    "rows = 3\n",
    "cols = 3\n",
    "n = rows * cols\n",
    "fig, axes = plt.subplots(rows, cols, figsize=(10, 12))\n",
    "\n",
    "for i, (audio, label) in enumerate(waveform_ds.take(n)):\n",
    "  r = i // cols\n",
    "  c = i % cols\n",
    "  ax = axes[r][c]\n",
    "  ax.plot(audio.numpy())\n",
    "  ax.set_yticks(np.arange(-1.2, 1.2, 0.2))\n",
    "  label = label.numpy().decode('utf-8')\n",
    "  ax.set_title(label)\n",
    "\n",
    "plt.show()"
   ]
  },
  {
   "cell_type": "markdown",
   "metadata": {
    "id": "EWXPphxm0B4m"
   },
   "source": [
    "## Convert waveforms to spectrograms\n",
    "\n",
    "The waveforms in the dataset are represented in the time domain. Next, you'll transform the waveforms from the time-domain signals into the time-frequency-domain signals by computing the <a href=\"https://en.wikipedia.org/wiki/Short-time_Fourier_transform\" class=\"external\">short-time Fourier transform (STFT)</a> to convert the waveforms to as <a href=\"https://en.wikipedia.org/wiki/Spectrogram\" clas=\"external\">spectrograms</a>, which show frequency changes over time and can be represented as 2D images. You will feed the spectrogram images into your neural network to train the model.\n",
    "\n",
    "A Fourier transform (`tf.signal.fft`) converts a signal to its component frequencies, but loses all time information. In comparison, STFT (`tf.signal.stft`) splits the signal into windows of time and runs a Fourier transform on each window, preserving some time information, and returning a 2D tensor that you can run standard convolutions on.\n",
    "\n",
    "Create a utility function for converting waveforms to spectrograms:\n",
    "\n",
    "- The waveforms need to be of the same length, so that when you convert them to spectrograms, the results have similar dimensions. This can be done by simply zero-padding the audio clips that are shorter than one second (using `tf.zeros`).\n",
    "- When calling `tf.signal.stft`, choose the `frame_length` and `frame_step` parameters such that the generated spectrogram \"image\" is almost square. For more information on the STFT parameters choice, refer to <a href=\"https://www.coursera.org/lecture/audio-signal-processing/stft-2-tjEQe\" class=\"external\">this Coursera video</a> on audio signal processing and STFT.\n",
    "- The STFT produces an array of complex numbers representing magnitude and phase. However, in this tutorial you'll only use the magnitude, which you can derive by applying `tf.abs` on the output of `tf.signal.stft`."
   ]
  },
  {
   "cell_type": "code",
   "execution_count": 13,
   "metadata": {
    "id": "_4CK75DHz_OR"
   },
   "outputs": [],
   "source": [
    "def get_spectrogram(waveform):\n",
    "  # Zero-padding for an audio waveform with less than 16,000 samples.\n",
    "  input_len = 16000\n",
    "  waveform = waveform[:input_len]\n",
    "  zero_padding = tf.zeros(\n",
    "      [16000] - tf.shape(waveform),\n",
    "      dtype=tf.float32)\n",
    "  # Cast the waveform tensors' dtype to float32.\n",
    "  waveform = tf.cast(waveform, dtype=tf.float32)\n",
    "  # Concatenate the waveform with `zero_padding`, which ensures all audio\n",
    "  # clips are of the same length.\n",
    "  equal_length = tf.concat([waveform, zero_padding], 0)\n",
    "  # Convert the waveform to a spectrogram via a STFT.\n",
    "  spectrogram = tf.signal.stft(\n",
    "      equal_length, frame_length=255, frame_step=128)\n",
    "  # Obtain the magnitude of the STFT.\n",
    "  spectrogram = tf.abs(spectrogram)\n",
    "  # Add a `channels` dimension, so that the spectrogram can be used\n",
    "  # as image-like input data with convolution layers (which expect\n",
    "  # shape (`batch_size`, `height`, `width`, `channels`).\n",
    "  spectrogram = spectrogram[..., tf.newaxis]\n",
    "  return spectrogram\n",
    "def get_spectrogram(waveform):\n",
    "  # Zero-padding for an audio waveform with less than 16,000 samples.\n",
    "  input_len = 16000\n",
    "  waveform = waveform[:input_len]\n",
    "  zero_padding = tf.zeros(\n",
    "      [16000] - tf.shape(waveform),\n",
    "      dtype=tf.float32)\n",
    "  # Cast the waveform tensors' dtype to float32.\n",
    "  waveform = tf.cast(waveform, dtype=tf.float32)\n",
    "  # Concatenate the waveform with `zero_padding`, which ensures all audio\n",
    "  # clips are of the same length.\n",
    "  equal_length = tf.concat([waveform, zero_padding], 0)\n",
    "  # Convert the waveform to a spectrogram via a STFT.\n",
    "  spectrogram = tf.signal.stft(\n",
    "      equal_length, frame_length=255, frame_step=128,fft_length=None,window_fn=tf.signal.hann_window)\n",
    "  # Obtain the magnitude of the STFT.\n",
    "  spectrograms = tf.abs(spectrogram)\n",
    "  num_spectrogram_bins = spectrogram.shape[-1]\n",
    "  lower_edge_hertz, upper_edge_hertz, num_mel_bins = 20.0, 4000.0, 40 \n",
    "  linear_to_mel_weight_matrix = tf.signal.linear_to_mel_weight_matrix( num_mel_bins, num_spectrogram_bins,\n",
    "                                                                           16000,\n",
    "                                                                           lower_edge_hertz, upper_edge_hertz)\n",
    "  mel_spectrograms = tf.tensordot(spectrograms, linear_to_mel_weight_matrix, 1)\n",
    "  mel_spectrograms.set_shape(spectrograms.shape[:-1].concatenate(linear_to_mel_weight_matrix.shape[-1:]))\n",
    "  # Compute a stabilized log to get log-magnitude mel-scale spectrograms.\n",
    "  log_mel_spectrograms = tf.math.log(mel_spectrograms + 1e-6)\n",
    "  # Compute MFCCs from log_mel_spectrograms and take the first 13.\n",
    "  mfccs = tf.signal.mfccs_from_log_mel_spectrograms(log_mel_spectrograms)[..., :10]\n",
    "  # mfccs = tf.reshape([mfccs,16000, 10, 1])\n",
    "  # next_element['audio'] = mfccs\n",
    "  # Add a `channels` dimension, so that the spectrogram can be used\n",
    "  # as image-like input data with convolution layers (which expect\n",
    "  # shape (`batch_size`, `height`, `width`, `channels`).\n",
    "  spectrogram = spectrogram[..., tf.newaxis]\n",
    "  mfccs = mfccs[..., tf.newaxis]\n",
    "\n",
    "  return mfccs"
   ]
  },
  {
   "cell_type": "markdown",
   "metadata": {
    "id": "5rdPiPYJphs2"
   },
   "source": [
    "Next, start exploring the data. Print the shapes of one example's tensorized waveform and the corresponding spectrogram, and play the original audio:"
   ]
  },
  {
   "cell_type": "code",
   "execution_count": 14,
   "metadata": {
    "colab": {
     "base_uri": "https://localhost:8080/",
     "height": 145
    },
    "id": "4Mu6Y7Yz3C-V",
    "outputId": "eeecaa12-f004-4b6a-f3ea-0138e48733ad"
   },
   "outputs": [
    {
     "name": "stdout",
     "output_type": "stream",
     "text": [
      "Label: left\n",
      "Waveform shape: (16000,)\n",
      "Spectrogram shape: (124, 10, 1)\n",
      "Audio playback\n"
     ]
    },
    {
     "data": {
      "text/html": [
       "\n",
       "                <audio  controls=\"controls\" >\n",
       "                    <source src=\"data:audio/wav;base64,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\" type=\"audio/wav\" />\n",
       "                    Your browser does not support the audio element.\n",
       "                </audio>\n",
       "              "
      ],
      "text/plain": [
       "<IPython.lib.display.Audio object>"
      ]
     },
     "metadata": {},
     "output_type": "display_data"
    }
   ],
   "source": [
    "for waveform, label in waveform_ds.take(1):\n",
    "  label = label.numpy().decode('utf-8')\n",
    "  spectrogram = get_spectrogram(waveform)\n",
    "\n",
    "print('Label:', label)\n",
    "print('Waveform shape:', waveform.shape)\n",
    "print('Spectrogram shape:', spectrogram.shape)\n",
    "print('Audio playback')\n",
    "display.display(display.Audio(waveform, rate=16000))"
   ]
  },
  {
   "cell_type": "markdown",
   "metadata": {
    "id": "xnSuqyxJ1isF"
   },
   "source": [
    "Now, define a function for displaying a spectrogram:"
   ]
  },
  {
   "cell_type": "code",
   "execution_count": 15,
   "metadata": {
    "id": "e62jzb36-Jog"
   },
   "outputs": [],
   "source": [
    "def plot_spectrogram(spectrogram, ax):\n",
    "  if len(spectrogram.shape) > 2:\n",
    "    assert len(spectrogram.shape) == 3\n",
    "    spectrogram = np.squeeze(spectrogram, axis=-1)\n",
    "  # Convert the frequencies to log scale and transpose, so that the time is\n",
    "  # represented on the x-axis (columns).\n",
    "  # Add an epsilon to avoid taking a log of zero.\n",
    "  log_spec = np.log(spectrogram.T + np.finfo(float).eps)\n",
    "  height = log_spec.shape[0]\n",
    "  width = log_spec.shape[1]\n",
    "  X = np.linspace(0, np.size(spectrogram), num=width, dtype=int)\n",
    "  Y = range(height)\n",
    "  ax.pcolormesh(X, Y, log_spec)"
   ]
  },
  {
   "cell_type": "markdown",
   "metadata": {
    "id": "baa5c91e8603"
   },
   "source": [
    "Plot the example's waveform over time and the corresponding spectrogram (frequencies over time):"
   ]
  },
  {
   "cell_type": "code",
   "execution_count": 16,
   "metadata": {
    "colab": {
     "base_uri": "https://localhost:8080/",
     "height": 499
    },
    "id": "d2_CikgY1tjv",
    "outputId": "392e50bf-799c-40e0-a992-a9e2435219f5"
   },
   "outputs": [
    {
     "name": "stderr",
     "output_type": "stream",
     "text": [
      "/tmp/ipykernel_26004/3600643975.py:8: RuntimeWarning: invalid value encountered in log\n",
      "  log_spec = np.log(spectrogram.T + np.finfo(float).eps)\n",
      "/tmp/ipykernel_26004/3600643975.py:13: MatplotlibDeprecationWarning: shading='flat' when X and Y have the same dimensions as C is deprecated since 3.3.  Either specify the corners of the quadrilaterals with X and Y, or pass shading='auto', 'nearest' or 'gouraud', or set rcParams['pcolor.shading'].  This will become an error two minor releases later.\n",
      "  ax.pcolormesh(X, Y, log_spec)\n"
     ]
    },
    {
     "data": {
      "image/png": "[encoded data removed]",
      "text/plain": [
       "<Figure size 864x576 with 2 Axes>"
      ]
     },
     "metadata": {
      "needs_background": "light"
     },
     "output_type": "display_data"
    }
   ],
   "source": [
    "fig, axes = plt.subplots(2, figsize=(12, 8))\n",
    "timescale = np.arange(waveform.shape[0])\n",
    "axes[0].plot(timescale, waveform.numpy())\n",
    "axes[0].set_title('Waveform')\n",
    "axes[0].set_xlim([0, 16000])\n",
    "\n",
    "plot_spectrogram(spectrogram.numpy(), axes[1])\n",
    "axes[1].set_title('Spectrogram')\n",
    "plt.show()"
   ]
  },
  {
   "cell_type": "markdown",
   "metadata": {
    "id": "GyYXjW07jCHA"
   },
   "source": [
    "Now, define a function that transforms the waveform dataset into spectrograms and their corresponding labels as integer IDs:"
   ]
  },
  {
   "cell_type": "code",
   "execution_count": 17,
   "metadata": {
    "id": "43IS2IouEV40"
   },
   "outputs": [],
   "source": [
    "def get_spectrogram_and_label_id(audio, label):\n",
    "  spectrogram = get_spectrogram(audio)\n",
    "  label_id = tf.math.argmax(label == commands)\n",
    "  return spectrogram, label_id"
   ]
  },
  {
   "cell_type": "markdown",
   "metadata": {
    "id": "cf5d5b033a45"
   },
   "source": [
    "Map `get_spectrogram_and_label_id` across the dataset's elements with `Dataset.map`:"
   ]
  },
  {
   "cell_type": "code",
   "execution_count": 18,
   "metadata": {
    "id": "yEVb_oK0oBLQ"
   },
   "outputs": [],
   "source": [
    "spectrogram_ds = waveform_ds.map(\n",
    "  map_func=get_spectrogram_and_label_id,\n",
    "  num_parallel_calls=AUTOTUNE)"
   ]
  },
  {
   "cell_type": "markdown",
   "metadata": {
    "id": "6gQpAAgMnyDi"
   },
   "source": [
    "Examine the spectrograms for different examples of the dataset:"
   ]
  },
  {
   "cell_type": "code",
   "execution_count": 19,
   "metadata": {
    "colab": {
     "base_uri": "https://localhost:8080/",
     "height": 591
    },
    "id": "QUbHfTuon4iF",
    "outputId": "a401b177-d201-48e1-ee16-e777b2b9939e"
   },
   "outputs": [
    {
     "name": "stderr",
     "output_type": "stream",
     "text": [
      "/tmp/ipykernel_26004/3600643975.py:8: RuntimeWarning: invalid value encountered in log\n",
      "  log_spec = np.log(spectrogram.T + np.finfo(float).eps)\n",
      "/tmp/ipykernel_26004/3600643975.py:13: MatplotlibDeprecationWarning: shading='flat' when X and Y have the same dimensions as C is deprecated since 3.3.  Either specify the corners of the quadrilaterals with X and Y, or pass shading='auto', 'nearest' or 'gouraud', or set rcParams['pcolor.shading'].  This will become an error two minor releases later.\n",
      "  ax.pcolormesh(X, Y, log_spec)\n"
     ]
    },
    {
     "data": {
      "image/png": "[encoded data removed]",
      "text/plain": [
       "<Figure size 720x720 with 9 Axes>"
      ]
     },
     "metadata": {
      "needs_background": "light"
     },
     "output_type": "display_data"
    }
   ],
   "source": [
    "rows = 3\n",
    "cols = 3\n",
    "n = rows*cols\n",
    "fig, axes = plt.subplots(rows, cols, figsize=(10, 10))\n",
    "\n",
    "for i, (spectrogram, label_id) in enumerate(spectrogram_ds.take(n)):\n",
    "  r = i // cols\n",
    "  c = i % cols\n",
    "  ax = axes[r][c]\n",
    "  plot_spectrogram(spectrogram.numpy(), ax)\n",
    "  ax.set_title(commands[label_id.numpy()])\n",
    "  ax.axis('off')\n",
    "\n",
    "plt.show()"
   ]
  },
  {
   "cell_type": "markdown",
   "metadata": {
    "id": "z5KdY8IF8rkt"
   },
   "source": [
    "## Build and train the model\n",
    "\n",
    "Repeat the training set preprocessing on the validation and test sets:"
   ]
  },
  {
   "cell_type": "code",
   "execution_count": 20,
   "metadata": {
    "id": "10UI32QH_45b"
   },
   "outputs": [],
   "source": [
    "def preprocess_dataset(files):\n",
    "  files_ds = tf.data.Dataset.from_tensor_slices(files)\n",
    "  output_ds = files_ds.map(\n",
    "      map_func=get_waveform_and_label,\n",
    "      num_parallel_calls=AUTOTUNE)\n",
    "  output_ds = output_ds.map(\n",
    "      map_func=get_spectrogram_and_label_id,\n",
    "      num_parallel_calls=AUTOTUNE)\n",
    "  return output_ds"
   ]
  },
  {
   "cell_type": "code",
   "execution_count": 21,
   "metadata": {
    "id": "HNv4xwYkB2P6"
   },
   "outputs": [],
   "source": [
    "train_ds = spectrogram_ds\n",
    "val_ds = preprocess_dataset(val_files)\n",
    "test_ds = preprocess_dataset(test_files)"
   ]
  },
  {
   "cell_type": "markdown",
   "metadata": {
    "id": "assnWo6SB3lR"
   },
   "source": [
    "Batch the training and validation sets for model training:"
   ]
  },
  {
   "cell_type": "code",
   "execution_count": 22,
   "metadata": {
    "id": "UgY9WYzn61EX"
   },
   "outputs": [],
   "source": [
    "batch_size = 64\n",
    "train_ds = train_ds.batch(batch_size)\n",
    "val_ds = val_ds.batch(batch_size)"
   ]
  },
  {
   "cell_type": "markdown",
   "metadata": {
    "id": "GS1uIh6F_TN9"
   },
   "source": [
    "Add `Dataset.cache` and `Dataset.prefetch` operations to reduce read latency while training the model:"
   ]
  },
  {
   "cell_type": "code",
   "execution_count": 23,
   "metadata": {
    "id": "fdZ6M-F5_QzY"
   },
   "outputs": [],
   "source": [
    "train_ds = train_ds.cache().prefetch(AUTOTUNE)\n",
    "val_ds = val_ds.cache().prefetch(AUTOTUNE)"
   ]
  },
  {
   "cell_type": "markdown",
   "metadata": {
    "id": "rwHkKCQQb5oW"
   },
   "source": [
    "For the model, you'll use a simple convolutional neural network (CNN), since you have transformed the audio files into spectrogram images.\n",
    "\n",
    "Your `tf.keras.Sequential` model will use the following Keras preprocessing layers:\n",
    "\n",
    "- `tf.keras.layers.Resizing`: to downsample the input to enable the model to train faster.\n",
    "- `tf.keras.layers.Normalization`: to normalize each pixel in the image based on its mean and standard deviation.\n",
    "\n",
    "For the `Normalization` layer, its `adapt` method would first need to be called on the training data in order to compute aggregate statistics (that is, the mean and the standard deviation)."
   ]
  },
  {
   "cell_type": "code",
   "execution_count": 24,
   "metadata": {
    "colab": {
     "base_uri": "https://localhost:8080/"
    },
    "id": "ALYz7PFCHblP",
    "outputId": "c06c5995-7755-479a-bc9e-1e7a3b070115"
   },
   "outputs": [
    {
     "name": "stdout",
     "output_type": "stream",
     "text": [
      "Input shape: (124, 10, 1)\n",
      "Model: \"model\"\n",
      "_________________________________________________________________\n",
      " Layer (type)                Output Shape              Param #   \n",
      "=================================================================\n",
      " input_1 (InputLayer)        [(None, 124, 10, 1)]      0         \n",
      "                                                                 \n",
      " conv2d (Conv2D)             (None, 62, 5, 64)         2624      \n",
      "                                                                 \n",
      " batch_normalization (BatchN  (None, 62, 5, 64)        256       \n",
      " ormalization)                                                   \n",
      "                                                                 \n",
      " activation (Activation)     (None, 62, 5, 64)         0         \n",
      "                                                                 \n",
      " dropout (Dropout)           (None, 62, 5, 64)         0         \n",
      "                                                                 \n",
      " depthwise_conv2d (Depthwise  (None, 62, 5, 64)        640       \n",
      " Conv2D)                                                         \n",
      "                                                                 \n",
      " batch_normalization_1 (Batc  (None, 62, 5, 64)        256       \n",
      " hNormalization)                                                 \n",
      "                                                                 \n",
      " activation_1 (Activation)   (None, 62, 5, 64)         0         \n",
      "                                                                 \n",
      " conv2d_1 (Conv2D)           (None, 62, 5, 64)         4160      \n",
      "                                                                 \n",
      " batch_normalization_2 (Batc  (None, 62, 5, 64)        256       \n",
      " hNormalization)                                                 \n",
      "                                                                 \n",
      " activation_2 (Activation)   (None, 62, 5, 64)         0         \n",
      "                                                                 \n",
      " depthwise_conv2d_1 (Depthwi  (None, 62, 5, 64)        640       \n",
      " seConv2D)                                                       \n",
      "                                                                 \n",
      " batch_normalization_3 (Batc  (None, 62, 5, 64)        256       \n",
      " hNormalization)                                                 \n",
      "                                                                 \n",
      " activation_3 (Activation)   (None, 62, 5, 64)         0         \n",
      "                                                                 \n",
      " conv2d_2 (Conv2D)           (None, 62, 5, 64)         4160      \n",
      "                                                                 \n",
      " batch_normalization_4 (Batc  (None, 62, 5, 64)        256       \n",
      " hNormalization)                                                 \n",
      "                                                                 \n",
      " activation_4 (Activation)   (None, 62, 5, 64)         0         \n",
      "                                                                 \n",
      " depthwise_conv2d_2 (Depthwi  (None, 62, 5, 64)        640       \n",
      " seConv2D)                                                       \n",
      "                                                                 \n",
      " batch_normalization_5 (Batc  (None, 62, 5, 64)        256       \n",
      " hNormalization)                                                 \n",
      "                                                                 \n",
      " activation_5 (Activation)   (None, 62, 5, 64)         0         \n",
      "                                                                 \n",
      " conv2d_3 (Conv2D)           (None, 62, 5, 64)         4160      \n",
      "                                                                 \n",
      " batch_normalization_6 (Batc  (None, 62, 5, 64)        256       \n",
      " hNormalization)                                                 \n",
      "                                                                 \n",
      " activation_6 (Activation)   (None, 62, 5, 64)         0         \n",
      "                                                                 \n",
      " depthwise_conv2d_3 (Depthwi  (None, 62, 5, 64)        640       \n",
      " seConv2D)                                                       \n",
      "                                                                 \n",
      " batch_normalization_7 (Batc  (None, 62, 5, 64)        256       \n",
      " hNormalization)                                                 \n",
      "                                                                 \n",
      " activation_7 (Activation)   (None, 62, 5, 64)         0         \n",
      "                                                                 \n",
      " conv2d_4 (Conv2D)           (None, 62, 5, 64)         4160      \n",
      "                                                                 \n",
      " batch_normalization_8 (Batc  (None, 62, 5, 64)        256       \n",
      " hNormalization)                                                 \n",
      "                                                                 \n",
      " activation_8 (Activation)   (None, 62, 5, 64)         0         \n",
      "                                                                 \n",
      " dropout_1 (Dropout)         (None, 62, 5, 64)         0         \n",
      "                                                                 \n",
      " average_pooling2d (AverageP  (None, 1, 1, 64)         0         \n",
      " ooling2D)                                                       \n",
      "                                                                 \n",
      " flatten (Flatten)           (None, 64)                0         \n",
      "                                                                 \n",
      " dense (Dense)               (None, 8)                 520       \n",
      "                                                                 \n",
      "=================================================================\n",
      "Total params: 24,648\n",
      "Trainable params: 23,496\n",
      "Non-trainable params: 1,152\n",
      "_________________________________________________________________\n"
     ]
    }
   ],
   "source": [
    "from tensorflow.keras.models import Model\n",
    "from tensorflow.keras.layers import Input, Dense, Activation, Flatten, BatchNormalization, Dropout, Reshape\n",
    "from tensorflow.keras.layers import Conv2D, DepthwiseConv2D, AveragePooling2D, GlobalAveragePooling2D\n",
    "from tensorflow.keras.regularizers import l2\n",
    "\n",
    "for spectrogram, _ in spectrogram_ds.take(1):\n",
    "  input_shape = spectrogram.shape\n",
    "print('Input shape:', input_shape)\n",
    "num_labels = len(commands)\n",
    "\n",
    "# Instantiate the `tf.keras.layers.Normalization` layer.\n",
    "norm_layer = layers.Normalization()\n",
    "# Fit the state of the layer to the spectrograms\n",
    "# with `Normalization.adapt`.\n",
    "norm_layer.adapt(data=spectrogram_ds.map(map_func=lambda spec, label: spec))\n",
    "\n",
    "input_shape = [input_shape[0], input_shape[1],1]\n",
    "filters = 64\n",
    "weight_decay = 1e-4\n",
    "regularizer = l2(weight_decay)\n",
    "final_pool_size = (int(input_shape[0]/2), int(input_shape[1]/2))\n",
    "\n",
    "# Model layers\n",
    "# Input pure conv2d\n",
    "inputs = Input(shape=input_shape)\n",
    "x = Conv2D(filters, (10,4), strides=(2,2), padding='same', kernel_regularizer=regularizer)(inputs)\n",
    "x = BatchNormalization()(x)\n",
    "x = Activation('relu')(x)\n",
    "x = Dropout(rate=0.2)(x)\n",
    "\n",
    "# First layer of separable depthwise conv2d\n",
    "# Separable consists of depthwise conv2d followed by conv2d with 1x1 kernels\n",
    "x = DepthwiseConv2D(depth_multiplier=1, kernel_size=(3,3), padding='same', kernel_regularizer=regularizer)(x)\n",
    "x = BatchNormalization()(x)\n",
    "x = Activation('relu')(x)\n",
    "x = Conv2D(filters, (1,1), padding='same', kernel_regularizer=regularizer)(x)\n",
    "x = BatchNormalization()(x)\n",
    "x = Activation('relu')(x)\n",
    "\n",
    "# Second layer of separable depthwise conv2d\n",
    "x = DepthwiseConv2D(depth_multiplier=1, kernel_size=(3,3), padding='same', kernel_regularizer=regularizer)(x)\n",
    "x = BatchNormalization()(x)\n",
    "x = Activation('relu')(x)\n",
    "x = Conv2D(filters, (1,1), padding='same', kernel_regularizer=regularizer)(x)\n",
    "x = BatchNormalization()(x)\n",
    "x = Activation('relu')(x)\n",
    "\n",
    "# Third layer of separable depthwise conv2d\n",
    "x = DepthwiseConv2D(depth_multiplier=1, kernel_size=(3,3), padding='same', kernel_regularizer=regularizer)(x)\n",
    "x = BatchNormalization()(x)\n",
    "x = Activation('relu')(x)\n",
    "x = Conv2D(filters, (1,1), padding='same', kernel_regularizer=regularizer)(x)\n",
    "x = BatchNormalization()(x)\n",
    "x = Activation('relu')(x)\n",
    "\n",
    "# Fourth layer of separable depthwise conv2d\n",
    "x = DepthwiseConv2D(depth_multiplier=1, kernel_size=(3,3), padding='same', kernel_regularizer=regularizer)(x)\n",
    "x = BatchNormalization()(x)\n",
    "x = Activation('relu')(x)\n",
    "x = Conv2D(filters, (1,1), padding='same', kernel_regularizer=regularizer)(x)\n",
    "x = BatchNormalization()(x)\n",
    "x = Activation('relu')(x)\n",
    "\n",
    "# Reduce size and apply final softmax\n",
    "x = Dropout(rate=0.4)(x)\n",
    "\n",
    "x = AveragePooling2D(pool_size=final_pool_size)(x)\n",
    "x = Flatten()(x)\n",
    "outputs = Dense(num_labels, activation=\"softmax\")(x)\n",
    "\n",
    "# Instantiate model.\n",
    "model = Model(inputs=inputs, outputs=outputs)\n",
    "\n",
    "model.summary()"
   ]
  },
  {
   "cell_type": "code",
   "execution_count": null,
   "metadata": {
    "id": "iBbMSSbSJHLM"
   },
   "outputs": [],
   "source": []
  },
  {
   "cell_type": "markdown",
   "metadata": {
    "id": "de52e5afa2f3"
   },
   "source": [
    "Configure the Keras model with the Adam optimizer and the cross-entropy loss:"
   ]
  },
  {
   "cell_type": "code",
   "execution_count": 25,
   "metadata": {
    "id": "wFjj7-EmsTD-"
   },
   "outputs": [],
   "source": [
    "model.compile(\n",
    "    optimizer=tf.keras.optimizers.Adam(0.001),\n",
    "    loss=tf.keras.losses.SparseCategoricalCrossentropy(from_logits=True),\n",
    "    metrics=['accuracy'],\n",
    ")"
   ]
  },
  {
   "cell_type": "markdown",
   "metadata": {
    "id": "f42b9e3a4705"
   },
   "source": [
    "Train the model over 10 epochs for demonstration purposes:"
   ]
  },
  {
   "cell_type": "code",
   "execution_count": 26,
   "metadata": {
    "colab": {
     "base_uri": "https://localhost:8080/"
    },
    "id": "ttioPJVMcGtq",
    "outputId": "ebc11ab6-2466-4bd9-8963-992da6d47bec"
   },
   "outputs": [
    {
     "name": "stdout",
     "output_type": "stream",
     "text": [
      "Epoch 1/10\n"
     ]
    },
    {
     "name": "stderr",
     "output_type": "stream",
     "text": [
      "/home/joji/anaconda3/envs/ml/lib/python3.9/site-packages/tensorflow/python/util/dispatch.py:1096: UserWarning: \"`sparse_categorical_crossentropy` received `from_logits=True`, but the `output` argument was produced by a sigmoid or softmax activation and thus does not represent logits. Was this intended?\"\n",
      "  return dispatch_target(*args, **kwargs)\n",
      "2022-06-11 14:21:28.808476: I tensorflow/stream_executor/cuda/cuda_dnn.cc:366] Loaded cuDNN version 8401\n",
      "2022-06-11 14:21:29.330005: I tensorflow/core/platform/default/subprocess.cc:304] Start cannot spawn child process: No such file or directory\n"
     ]
    },
    {
     "name": "stdout",
     "output_type": "stream",
     "text": [
      "100/100 [==============================] - 10s 79ms/step - loss: 1.7272 - accuracy: 0.4214 - val_loss: 2.1317 - val_accuracy: 0.1125\n",
      "Epoch 2/10\n",
      "100/100 [==============================] - 2s 18ms/step - loss: 1.0455 - accuracy: 0.7175 - val_loss: 2.1853 - val_accuracy: 0.1125\n",
      "Epoch 3/10\n",
      "100/100 [==============================] - 2s 17ms/step - loss: 0.7086 - accuracy: 0.8177 - val_loss: 2.2338 - val_accuracy: 0.1825\n",
      "Epoch 4/10\n",
      "100/100 [==============================] - 2s 18ms/step - loss: 0.5368 - accuracy: 0.8591 - val_loss: 1.8368 - val_accuracy: 0.2725\n",
      "Epoch 5/10\n",
      "100/100 [==============================] - 2s 18ms/step - loss: 0.4301 - accuracy: 0.8877 - val_loss: 1.0662 - val_accuracy: 0.6237\n",
      "Epoch 6/10\n",
      "100/100 [==============================] - 2s 18ms/step - loss: 0.3608 - accuracy: 0.9039 - val_loss: 0.5227 - val_accuracy: 0.8550\n",
      "Epoch 7/10\n",
      "100/100 [==============================] - 2s 18ms/step - loss: 0.3181 - accuracy: 0.9177 - val_loss: 0.3178 - val_accuracy: 0.9062\n",
      "Epoch 8/10\n",
      "100/100 [==============================] - 2s 19ms/step - loss: 0.2857 - accuracy: 0.9217 - val_loss: 0.2782 - val_accuracy: 0.9162\n",
      "Epoch 9/10\n",
      "100/100 [==============================] - 2s 18ms/step - loss: 0.2548 - accuracy: 0.9292 - val_loss: 0.2454 - val_accuracy: 0.9287\n",
      "Epoch 10/10\n",
      "100/100 [==============================] - 2s 17ms/step - loss: 0.2329 - accuracy: 0.9419 - val_loss: 0.2351 - val_accuracy: 0.9325\n"
     ]
    }
   ],
   "source": [
    "EPOCHS = 10\n",
    "history = model.fit(\n",
    "    train_ds,\n",
    "    validation_data=val_ds,\n",
    "    epochs=EPOCHS,\n",
    "    callbacks=tf.keras.callbacks.EarlyStopping(verbose=1, patience=3),\n",
    ")\n",
    "#model.save(\"ds_cnn.hdf5\")"
   ]
  },
  {
   "cell_type": "code",
   "execution_count": 27,
   "metadata": {},
   "outputs": [],
   "source": [
    "model.save(\"ds_cnn.hdf5\")"
   ]
  },
  {
   "cell_type": "markdown",
   "metadata": {
    "id": "gjpCDeQ4mUfS"
   },
   "source": [
    "Let's plot the training and validation loss curves to check how your model has improved during training:"
   ]
  },
  {
   "cell_type": "code",
   "execution_count": 28,
   "metadata": {
    "colab": {
     "base_uri": "https://localhost:8080/",
     "height": 265
    },
    "id": "nzhipg3Gu2AY",
    "outputId": "71399c12-d43a-49b0-c5d5-68070d98d77a"
   },
   "outputs": [
    {
     "data": {
      "image/png": "[encoded data removed]",
      "text/plain": [
       "<Figure size 432x288 with 1 Axes>"
      ]
     },
     "metadata": {
      "needs_background": "light"
     },
     "output_type": "display_data"
    }
   ],
   "source": [
    "metrics = history.history\n",
    "plt.plot(history.epoch, metrics['loss'], metrics['val_loss'])\n",
    "plt.legend(['loss', 'val_loss'])\n",
    "plt.show()"
   ]
  },
  {
   "cell_type": "markdown",
   "metadata": {
    "id": "5ZTt3kO3mfm4"
   },
   "source": [
    "## Evaluate the model performance\n",
    "\n",
    "Run the model on the test set and check the model's performance:"
   ]
  },
  {
   "cell_type": "code",
   "execution_count": 29,
   "metadata": {
    "id": "biU2MwzyAo8o"
   },
   "outputs": [],
   "source": [
    "test_audio = []\n",
    "test_labels = []\n",
    "\n",
    "for audio, label in test_ds:\n",
    "  test_audio.append(audio.numpy())\n",
    "  test_labels.append(label.numpy())\n",
    "\n",
    "test_audio = np.array(test_audio)\n",
    "test_labels = np.array(test_labels)"
   ]
  },
  {
   "cell_type": "code",
   "execution_count": 30,
   "metadata": {
    "id": "ktUanr9mRZky"
   },
   "outputs": [
    {
     "name": "stdout",
     "output_type": "stream",
     "text": [
      "Test set accuracy: 94%\n"
     ]
    }
   ],
   "source": [
    "y_pred = np.argmax(model.predict(test_audio), axis=1)\n",
    "y_true = test_labels\n",
    "\n",
    "test_acc = sum(y_pred == y_true) / len(y_true)\n",
    "print(f'Test set accuracy: {test_acc:.0%}')"
   ]
  },
  {
   "cell_type": "markdown",
   "metadata": {
    "id": "en9Znt1NOabH"
   },
   "source": [
    "### Display a confusion matrix\n",
    "\n",
    "Use a <a href=\"https://developers.google.com/machine-learning/glossary#confusion-matrix\" class=\"external\">confusion matrix</a> to check how well the model did classifying each of the commands in the test set:\n"
   ]
  },
  {
   "cell_type": "code",
   "execution_count": 31,
   "metadata": {
    "id": "LvoSAOiXU3lL"
   },
   "outputs": [
    {
     "data": {
      "image/png": "[encoded data removed]",
      "text/plain": [
       "<Figure size 720x576 with 2 Axes>"
      ]
     },
     "metadata": {
      "needs_background": "light"
     },
     "output_type": "display_data"
    }
   ],
   "source": [
    "confusion_mtx = tf.math.confusion_matrix(y_true, y_pred)\n",
    "plt.figure(figsize=(10, 8))\n",
    "sns.heatmap(confusion_mtx,\n",
    "            xticklabels=commands,\n",
    "            yticklabels=commands,\n",
    "            annot=True, fmt='g')\n",
    "plt.xlabel('Prediction')\n",
    "plt.ylabel('Label')\n",
    "plt.show()"
   ]
  },
  {
   "cell_type": "markdown",
   "metadata": {
    "id": "mQGi_mzPcLvl"
   },
   "source": [
    "## Run inference on an audio file\n",
    "\n",
    "Finally, verify the model's prediction output using an input audio file of someone saying \"no\". How well does your model perform?"
   ]
  },
  {
   "cell_type": "code",
   "execution_count": 32,
   "metadata": {
    "id": "zRxauKMdhofU"
   },
   "outputs": [
    {
     "data": {
      "image/png": "[encoded data removed]",
      "text/plain": [
       "<Figure size 432x288 with 1 Axes>"
      ]
     },
     "metadata": {
      "needs_background": "light"
     },
     "output_type": "display_data"
    }
   ],
   "source": [
    "sample_file = data_dir/'no/01bb6a2a_nohash_0.wav'\n",
    "\n",
    "sample_ds = preprocess_dataset([str(sample_file)])\n",
    "\n",
    "for spectrogram, label in sample_ds.batch(1):\n",
    "  prediction = model(spectrogram)\n",
    "  plt.bar(commands, tf.nn.softmax(prediction[0]))\n",
    "  plt.title(f'Predictions for \"{commands[label[0]]}\"')\n",
    "  plt.show()"
   ]
  },
  {
   "cell_type": "markdown",
   "metadata": {
    "id": "VgWICqdqQNaQ"
   },
   "source": [
    "As the output suggests, your model should have recognized the audio command as \"no\"."
   ]
  },
  {
   "cell_type": "markdown",
   "metadata": {
    "id": "J3jF933m9z1J"
   },
   "source": [
    "## Next steps\n",
    "\n",
    "This tutorial demonstrated how to carry out simple audio classification/automatic speech recognition using a convolutional neural network with TensorFlow and Python. To learn more, consider the following resources:\n",
    "\n",
    "- The [Sound classification with YAMNet](https://www.tensorflow.org/hub/tutorials/yamnet) tutorial shows how to use transfer learning for audio classification.\n",
    "- The notebooks from <a href=\"https://www.kaggle.com/c/tensorflow-speech-recognition-challenge/overview\" class=\"external\">Kaggle's TensorFlow speech recognition challenge</a>.\n",
    "- The \n",
    "<a href=\"https://codelabs.developers.google.com/codelabs/tensorflowjs-audio-codelab/index.html#0\" class=\"external\">TensorFlow.js - Audio recognition using transfer learning codelab</a> teaches how to build your own interactive web app for audio classification.\n",
    "- <a href=\"https://arxiv.org/abs/1709.04396\" class=\"external\">A tutorial on deep learning for music information retrieval</a> (Choi et al., 2017) on arXiv.\n",
    "- TensorFlow also has additional support for [audio data preparation and augmentation](https://www.tensorflow.org/io/tutorials/audio) to help with your own audio-based projects.\n",
    "- Consider using the <a href=\"https://librosa.org/\" class=\"external\">librosa</a> library—a Python package for music and audio analysis."
   ]
  }
 ],
 "metadata": {
  "accelerator": "GPU",
  "colab": {
   "collapsed_sections": [],
   "name": "simple_audio.ipynb",
   "provenance": [],
   "toc_visible": true
  },
  "kernelspec": {
   "display_name": "Python 3 (ipykernel)",
   "language": "python",
   "name": "python3"
  },
  "language_info": {
   "codemirror_mode": {
    "name": "ipython",
    "version": 3
   },
   "file_extension": ".py",
   "mimetype": "text/x-python",
   "name": "python",
   "nbconvert_exporter": "python",
   "pygments_lexer": "ipython3",
   "version": "3.8.10"
  },
  "vscode": {
   "interpreter": {
    "hash": "0b05c8f661b0a5b2ebd7d03fba5802f5e18ed2b05b0302fee30b79774868a0f3"
   }
  }
 },
 "nbformat": 4,
 "nbformat_minor": 1
}
